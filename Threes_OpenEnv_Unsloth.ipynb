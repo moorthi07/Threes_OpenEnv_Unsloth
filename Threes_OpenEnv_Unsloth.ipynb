from gymnasium import Env, spaces
import numpy as np

class ThreesEnv(Env):
    def __init__(self):
        self.board = np.zeros((4, 4), dtype=int)
        self.action_space = spaces.Discrete(4)  # up, down, left, right
        self.observation_space = spaces.Box(0, 6144, (4, 4), dtype=int)

    def reset(self):
        self.board = np.zeros((4, 4), dtype=int)
        return self.board

    def step(self, action):
        # Implement Threes! logic (tile shift & merge rules)
        reward = self._calculate_reward()
        done = self._check_game_over()
        return self.board, reward, done, {}
        
        
    def _calculate_reward(self):
    # Reward agent for survivability and better board state

        reward = 0
    
        # 1. Encourage more empty spaces
        empty_spaces = np.sum(self.board == 0)
        reward += 3 * empty_spaces
    
        # 2. Bonus if adjacent tiles can merge (potential moves)
        for i in range(4):
            for j in range(4):
                if i < 3 and self.board[i, j] == self.board[i + 1, j] and self.board[i, j] > 0:
                    reward += 2
                if j < 3 and self.board[i, j] == self.board[i, j + 1] and self.board[i, j] > 0:
                    reward += 2
    
        # 3. Additional reward for placing the largest tile in a corner (good strategy)
        corners = [self.board[0, 0], self.board[0, 3], self.board[3, 0], self.board[3, 3]]
        reward += 5 * np.max(corners)
    
        # 4. Penalize for full board with no movement options
        if empty_spaces == 0:
            reward -= 15
    
        # 5. Add total board value scaled down
        reward += np.log1p(np.sum(self.board)) * 0.1
    
        return reward


    def _check_game_over(self):
        # Placeholder: not finished until we fill logic
        return False

    def _add_random_tile(self):
        empty = list(zip(*np.where(self.board == 0)))
        if empty:
            i, j = empty[np.random.randint(len(empty))]
            self.board[i, j] = np.random.choice([1, 2])

    def render(self):
        print(self.board)
